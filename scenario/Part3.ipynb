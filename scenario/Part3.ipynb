{
 "cells": [
  {
   "cell_type": "code",
   "execution_count": 1,
   "id": "9bb06426",
   "metadata": {},
   "outputs": [],
   "source": [
    "import pandas as pd"
   ]
  },
  {
   "cell_type": "markdown",
   "id": "7bf97256",
   "metadata": {},
   "source": [
    "### Part3"
   ]
  },
  {
   "cell_type": "code",
   "execution_count": null,
   "id": "fbe89f3e",
   "metadata": {},
   "outputs": [],
   "source": [
    "# 시각화 옵션\n",
    "plt.gcf().set_size_inches(20, 10)\n",
    "plt.tight_layout()"
   ]
  },
  {
   "cell_type": "markdown",
   "id": "3582d3cd",
   "metadata": {},
   "source": [
    "#### CH01\n",
    "- 문제상황: 특정 장비의 고장으로 연속으로 진행되어야 하는 공정 프로세스가 중단되고 있다.(Bottleneck구간)\n",
    "- 데이터 파악: 특정 장비 위치에 충돌센서를 설치했으며 충돌 시 충돌 당시 질량, 속도가 기록된다.\n",
    "- 해결방안: 센서 데이터로 고장 직전 `이상 징후`를 `포착`하자.\n",
    "- 기대효과: 고장으로 인한 중단을 줄여 공정 손실을 줄이고 생산 스케줄을 정상화할 수 있다.\n",
    "- 성과측정: 이상징후 모니터링 전/후 제품 생산량 또는 프로세스 중단 횟수를 기준으로 개선 및 평가"
   ]
  },
  {
   "cell_type": "code",
   "execution_count": null,
   "id": "1dffd1a8",
   "metadata": {},
   "outputs": [],
   "source": [
    "# 구체적이고 간단 명료한게, 직접적으로 문제를 정의해야 한다.\n",
    "# 현업에서 어떻게 적용할 수 있는지를 고려해서 분석 프로세스를 기획해야 하고 적용하기 위한 전제조건이 무엇인지 알아야 한다."
   ]
  },
  {
   "cell_type": "code",
   "execution_count": 2,
   "id": "07c9eb8d",
   "metadata": {},
   "outputs": [],
   "source": [
    "# 프로세스가 정상적으로 동작한 과정이 0.000004마다 375번 측정되고 id가 전환된다.\n",
    "df_features = pd.read_csv('data/chapter01_abnormal_features.csv')\n",
    "df_target = pd.read_csv('data/chapter01_abnormal_target.csv')"
   ]
  },
  {
   "cell_type": "code",
   "execution_count": null,
   "id": "c39c5479",
   "metadata": {},
   "outputs": [],
   "source": [
    "# 충돌 에너지를 정의하기 위해 질량 X 속도를 계산한다. \n",
    "# 도메인 지식을 활용해 mu+2sd 외의 충돌 에너지를 가지면 이상 징후로 판단한다.\n",
    "df_target['Energy'] = df_target['M'] * df_target['V']"
   ]
  },
  {
   "cell_type": "code",
   "execution_count": null,
   "id": "366013fc",
   "metadata": {},
   "outputs": [],
   "source": [
    "# 이상 발생 시의 충돌 센서 값의 범위를 산점도를 그려보아 -10000 미만, 10000 초과로 파악한다.\n",
    "# 각 센서의 해당 범위의 데이터 중 이상인 데이터 비율을 구해보니 26% 이상이다."
   ]
  },
  {
   "cell_type": "code",
   "execution_count": null,
   "id": "0ea9ed44",
   "metadata": {},
   "outputs": [],
   "source": [
    "# 각 센서의 이상징후 범위에 해당하는 지 여부(ONE-HOT)로 예측해본다.\n",
    "# 고장이라고 예측한 것 중 실제 고장인 정도(Precision)과 진짜 고장을 예측하는 정도(Recall) 중 Recall이 중요한 문제이다.\n",
    "# 이상(1)에 대한 Recall이 제일 높은 센서 4를 사용해 이상 모니터링을 하는 것이 좋다."
   ]
  },
  {
   "cell_type": "code",
   "execution_count": null,
   "id": "8fdfa8eb",
   "metadata": {},
   "outputs": [],
   "source": [
    "# Train데이터로 다시 한 번 predict할 때 성능을 보아 학습데이터만 외웠는지 확인해야 한다."
   ]
  },
  {
   "cell_type": "markdown",
   "id": "32c4c5b4",
   "metadata": {},
   "source": [
    "#### CH02\n",
    "- 문제상황: 상품 판매량이 감소하여 제품 판매로만 영업이익을 발생시킬 수 없다.\n",
    "- 데이터 파악:일자별 시간 단위로 13개의 센서(일산화탄소, 벤젠농도 등)의 데이터가 수집된다.\n",
    "- 해결방안: 공기질 분석 리포트(지표 개발, 상쾌/불쾌 시간 분석으로 환기시간 전달)를 발행하는 차별화 서비스를 선보인다.\n",
    "- 기대효과: 제품 판매량 증가로 영업이익을 증가시킬 수 있다.\n",
    "- 성과측정: 차별화 서비스 전/후의 제품 판매량 및 설문조사를 통한 고객 만족도 점수(브랜드 이미지, 고객 관계 향상, 접근 채널 증가 효과가 있음)"
   ]
  },
  {
   "cell_type": "code",
   "execution_count": null,
   "id": "3702c187",
   "metadata": {},
   "outputs": [],
   "source": [
    "# 데이터 클렌징 순서는 항상 Imputation, Outlier, Scaling / Transformation 으로 진행해야 한다."
   ]
  },
  {
   "cell_type": "code",
   "execution_count": null,
   "id": "2213cf20",
   "metadata": {},
   "outputs": [],
   "source": [
    "# 측정 항목별 나올 수 있는 값의 범위에 맞춰 발생 불가한 이상치는 결측치로 바꾸고 \n",
    "# 시계열 데이터로써 ffill을 이용해 결측치를 매꾼다.\n",
    "# 혹은 describe로 데이터 내에서 이상치가 어떻게 표현되고 있는지 확인해야 한다."
   ]
  },
  {
   "cell_type": "code",
   "execution_count": null,
   "id": "9e538276",
   "metadata": {},
   "outputs": [],
   "source": [
    "# 시계열 데이터이다 보니 추세(Trend)를 파악해야 한다.\n",
    "# 기준치는 mu+2sd로 설정할 수 있다. 기준치 초과한 때를 알리는 plot을 제시한다."
   ]
  },
  {
   "cell_type": "code",
   "execution_count": null,
   "id": "898e86fc",
   "metadata": {},
   "outputs": [],
   "source": [
    "# 시간 단위 데이터이기에 24로 나눠 days를 출력한다.\n",
    "# 보고서 발행 기간 중 어떤 측정항목이 기준치를 몇 번 넘겼는지 확인할 수 있다.\n",
    "# 기준치를 넘긴 시간대 개수를 제시한 뒤 해당 시간대에는 환기 하길 추천한다."
   ]
  },
  {
   "cell_type": "markdown",
   "id": "9ed5d875",
   "metadata": {},
   "source": [
    "#### Part3 - CH09"
   ]
  },
  {
   "cell_type": "markdown",
   "id": "9d05bb7f",
   "metadata": {},
   "source": [
    "#### Part3 - CH11"
   ]
  },
  {
   "cell_type": "markdown",
   "id": "1c779e61",
   "metadata": {},
   "source": [
    "#### Part3 - CH13"
   ]
  },
  {
   "cell_type": "markdown",
   "id": "24de8869",
   "metadata": {},
   "source": [
    "#### Part3 - CH14"
   ]
  },
  {
   "cell_type": "markdown",
   "id": "922f54f5",
   "metadata": {},
   "source": [
    "#### Part3 - CH15"
   ]
  },
  {
   "cell_type": "markdown",
   "id": "4c427994",
   "metadata": {},
   "source": [
    "#### Part3 - CH16"
   ]
  },
  {
   "cell_type": "markdown",
   "id": "78243a00",
   "metadata": {},
   "source": [
    "#### Part3 - CH17"
   ]
  },
  {
   "cell_type": "markdown",
   "id": "09b60bfb",
   "metadata": {},
   "source": [
    "#### Part3 - CH18"
   ]
  },
  {
   "cell_type": "code",
   "execution_count": null,
   "id": "9cec505a",
   "metadata": {},
   "outputs": [],
   "source": [
    "# 19, 20, 26, 28"
   ]
  },
  {
   "cell_type": "code",
   "execution_count": null,
   "id": "7cf57b4d",
   "metadata": {},
   "outputs": [],
   "source": []
  }
 ],
 "metadata": {
  "kernelspec": {
   "display_name": "Python 3 (ipykernel)",
   "language": "python",
   "name": "python3"
  },
  "language_info": {
   "codemirror_mode": {
    "name": "ipython",
    "version": 3
   },
   "file_extension": ".py",
   "mimetype": "text/x-python",
   "name": "python",
   "nbconvert_exporter": "python",
   "pygments_lexer": "ipython3",
   "version": "3.9.12"
  }
 },
 "nbformat": 4,
 "nbformat_minor": 5
}
