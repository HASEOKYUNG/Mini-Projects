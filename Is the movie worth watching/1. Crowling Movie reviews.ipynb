{
 "cells": [
  {
   "cell_type": "markdown",
   "id": "ac73d9e9",
   "metadata": {},
   "source": [
    "## Import"
   ]
  },
  {
   "cell_type": "code",
   "execution_count": 1,
   "id": "f7f7c9b8",
   "metadata": {},
   "outputs": [],
   "source": [
    "from selenium import webdriver\n",
    "from selenium.webdriver.common.by import By\n",
    "from selenium.webdriver.chrome.service import Service\n",
    "from selenium.webdriver.common.keys import Keys\n",
    "from webdriver_manager.chrome import ChromeDriverManager\n",
    "import time\n",
    "import pickle"
   ]
  },
  {
   "cell_type": "markdown",
   "id": "859e1b4e",
   "metadata": {},
   "source": [
    "## Crowling\n",
    "- Keys 속성은 아래의 링크에서 자세히 확인할 수 있다.<br>\n",
    "  https://www.selenium.dev/selenium/docs/api/py/webdriver/selenium.webdriver.common.keys.html?#selenium.webdriver.common.keys"
   ]
  },
  {
   "cell_type": "code",
   "execution_count": 2,
   "id": "5d128a99",
   "metadata": {},
   "outputs": [
    {
     "name": "stdout",
     "output_type": "stream",
     "text": [
      "관람평을 확인하고 싶은 영화 이름을 입력하시오.극한직업\n"
     ]
    }
   ],
   "source": [
    "MOVIE = input('관람평을 확인하고 싶은 영화 이름을 입력하시오.')"
   ]
  },
  {
   "cell_type": "code",
   "execution_count": 3,
   "id": "083ec855",
   "metadata": {},
   "outputs": [],
   "source": [
    "# 영화 관람평 URL\n",
    "url = f'https://search.naver.com/search.naver?where=nexearch&sm=top_hty&fbm=0&ie=utf8&query={MOVIE}+관람평'"
   ]
  },
  {
   "cell_type": "code",
   "execution_count": 4,
   "id": "c237604a",
   "metadata": {},
   "outputs": [],
   "source": [
    "# Chrome 브라우저 실행\n",
    "driver = webdriver.Chrome(service= Service(ChromeDriverManager().install()))\n",
    "driver.get(url)"
   ]
  },
  {
   "cell_type": "code",
   "execution_count": 5,
   "id": "2c18b81c",
   "metadata": {},
   "outputs": [],
   "source": [
    "def naver_movie_review(count, h=0, reviews=[]):\n",
    "    # 페이지 안 스크롤, 영화 리뷰\n",
    "    actions = driver.find_element(By.CLASS_NAME, 'lego_review_list._scroller')\n",
    "    xpath = '/html/body/div[3]/div[2]/div/div[1]/div[2]/div[2]/div/div/div[4]/div[4]/ul'\n",
    "    for _ in range(count):\n",
    "        # 25번 페이지 내리기\n",
    "        for i in range(25):\n",
    "            driver.execute_script(f\"arguments[0].scrollBy({h}, {h+800})\", actions)\n",
    "            h += 800\n",
    "            time.sleep(2)\n",
    "\n",
    "        # 영화 리뷰 불러오기\n",
    "        reviews += [REVIEW[4:] for REVIEW in driver.find_element(By.XPATH, xpath).text.split('\\n') if '관람객' in REVIEW]\n",
    "    return reviews"
   ]
  },
  {
   "cell_type": "code",
   "execution_count": 6,
   "id": "8504b5ac",
   "metadata": {},
   "outputs": [
    {
     "data": {
      "text/plain": [
       "['진짜 뻥안치고 ㅈㄴ 웃겼다',\n",
       " '계속 웃으면서 봤어요!\"지금까지 이런맛은 없었다이것은 갈비인가 통닭인가수원왕갈비통닭입니다.\"이 대사가 귓가에 계속 맴도네요 ㅎㅎ',\n",
       " '완전 내스타일.. 류승룡 영화 요즘 말아먹더니 이번엔 대박 웃기네 ㅋㅋ역시 갓승룡',\n",
       " '자꾸 광고할떄 치킨치킨 거리길래 뭔말인가 했더만..ㅋㅋㅋ치킨먹고싶네',\n",
       " '올해 가장 재미있었다 아직까진']"
      ]
     },
     "execution_count": 6,
     "metadata": {},
     "output_type": "execute_result"
    }
   ],
   "source": [
    "reviews = naver_movie_review(5)\n",
    "reviews[:5]"
   ]
  },
  {
   "cell_type": "markdown",
   "id": "a0e5f130",
   "metadata": {},
   "source": [
    "## Save Data"
   ]
  },
  {
   "cell_type": "code",
   "execution_count": 7,
   "id": "035621ca",
   "metadata": {},
   "outputs": [],
   "source": [
    "pickle.dump(f'data/{MOVIE}_reviews.pkl', 'wb')"
   ]
  },
  {
   "cell_type": "code",
   "execution_count": null,
   "id": "11f326df",
   "metadata": {},
   "outputs": [],
   "source": []
  }
 ],
 "metadata": {
  "kernelspec": {
   "display_name": "Python 3 (ipykernel)",
   "language": "python",
   "name": "python3"
  },
  "language_info": {
   "codemirror_mode": {
    "name": "ipython",
    "version": 3
   },
   "file_extension": ".py",
   "mimetype": "text/x-python",
   "name": "python",
   "nbconvert_exporter": "python",
   "pygments_lexer": "ipython3",
   "version": "3.9.7"
  }
 },
 "nbformat": 4,
 "nbformat_minor": 5
}
